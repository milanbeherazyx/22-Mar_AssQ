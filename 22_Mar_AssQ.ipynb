{
 "cells": [
  {
   "attachments": {},
   "cell_type": "markdown",
   "metadata": {},
   "source": [
    "# Q1. Pearson correlation coefficient is a measure of the linear relationship between two variables. Suppose you have collected data on the amount of time students spend studying for an exam and their final exam scores. Calculate the Pearson correlation coefficient between these two variables and interpret the result."
   ]
  },
  {
   "attachments": {},
   "cell_type": "markdown",
   "metadata": {},
   "source": [
    ">To calculate the Pearson correlation coefficient between the amount of time students spend studying for an exam and their final exam scores, you would need to use a statistical software or a calculator. However, I can provide you with the steps and interpretation of the result.\n",
    "\n",
    "- Collect the data on the amount of time students spend studying for an exam and their final exam scores.\n",
    "\n",
    "- Calculate the mean and standard deviation for each variable.\n",
    "\n",
    "- Calculate the covariance between the two variables using the following formula: Cov(X,Y) = Σ((Xi - X̄)(Yi - Ȳ))/n-1, where Xi and Yi are the individual values, X̄ and Ȳ are the means, and n is the sample size.\n",
    "\n",
    "- Calculate the correlation coefficient using the following formula: r = Cov(X,Y) / (SD(X) * SD(Y)), where SD(X) and SD(Y) are the standard deviations of X and Y, respectively.\n",
    "\n",
    "> The resulting value of r will range from -1 to +1. A value of -1 indicates a perfect negative correlation, 0 indicates no correlation, and +1 indicates a perfect positive correlation.\n",
    "\n",
    "> Interpreting the Pearson correlation coefficient value:\n",
    "\n",
    "- If r is close to 1, there is a strong positive correlation between the two variables, indicating that as the amount of time spent studying increases, the final exam scores also increase.\n",
    "- If r is close to -1, there is a strong negative correlation between the two variables, indicating that as the amount of time spent studying increases, the final exam scores decrease.\n",
    "- If r is close to 0, there is no significant correlation between the two variables.\n",
    ">It is important to note that correlation does not imply causation, and there may be other factors that contribute to the final exam scores.\n"
   ]
  },
  {
   "attachments": {},
   "cell_type": "markdown",
   "metadata": {},
   "source": [
    "# Q2. Spearman's rank correlation is a measure of the monotonic relationship between two variables. Suppose you have collected data on the amount of sleep individuals get each night and their overall job satisfaction level on a scale of 1 to 10. Calculate the Spearman's rank correlation between these two variables and interpret the result."
   ]
  },
  {
   "attachments": {},
   "cell_type": "markdown",
   "metadata": {},
   "source": [
    ">To calculate the Spearman's rank correlation between the amount of sleep individuals get each night and their overall job satisfaction level on a scale of 1 to 10, you would need to use a statistical software or a calculator. However, I can provide you with the steps and interpretation of the result.\n",
    "\n",
    ">Collect the data on the amount of sleep individuals get each night and their overall job satisfaction level on a scale of 1 to 10.\n",
    "\n",
    ">Rank the data for each variable separately from lowest to highest, with the lowest value being assigned a rank of 1 and the highest value being assigned a rank of n, where n is the sample size.\n",
    "\n",
    "- Calculate the difference between the ranks for each pair of observations.\n",
    "\n",
    "- Calculate the Spearman's rank correlation coefficient using the following formula: r_s = 1 - (6Σd^2)/(n(n^2-1)), where d is the difference in ranks for each pair of observations and n is the sample size.\n",
    "\n",
    ">The resulting value of r_s will range from -1 to +1. A value of -1 indicates a perfect negative correlation, 0 indicates no correlation, and +1 indicates a perfect positive correlation.\n",
    "\n",
    ">Interpreting the Spearman's rank correlation coefficient value:\n",
    "\n",
    "- If r_s is close to 1, there is a strong positive monotonic correlation between the two variables, indicating that as the amount of sleep individuals get each night increases, their overall job satisfaction level also increases.\n",
    "- If r_s is close to -1, there is a strong negative monotonic correlation between the two variables, indicating that as the amount of sleep individuals get each night increases, their overall job satisfaction level decreases.\n",
    "- If r_s is close to 0, there is no significant monotonic correlation between the two variables.\n",
    ">It is important to note that while the Spearman's rank correlation coefficient measures the monotonic relationship between two variables, it does not indicate causation, and there may be other factors that contribute to an individual's job satisfaction level.\n"
   ]
  },
  {
   "attachments": {},
   "cell_type": "markdown",
   "metadata": {},
   "source": [
    "# Q3. Suppose you are conducting a study to examine the relationship between the number of hours of exercise per week and body mass index (BMI) in a sample of adults. You collected data on both variables for 50 participants. Calculate the Pearson correlation coefficient and the Spearman's rank correlation between these two variables and compare the results."
   ]
  },
  {
   "attachments": {},
   "cell_type": "markdown",
   "metadata": {},
   "source": [
    "To calculate the Pearson correlation coefficient and the Spearman's rank correlation coefficient, you will need to follow these steps:\n",
    "\n",
    "Step 1: Organize the data\n",
    "\n",
    "Organize the data into two columns: one for the number of hours of exercise per week and one for the corresponding BMI values for each participant.\n",
    "\n",
    "Step 2: Calculate the Pearson correlation coefficient\n",
    "\n",
    "To calculate the Pearson correlation coefficient, you will need to use the following formula:\n",
    "\n",
    "r = (Σ(x - x̄)(y - ȳ)) / (√Σ(x - x̄)²Σ(y - ȳ)²)\n",
    "\n",
    "where:\n",
    "x̄ is the mean of the number of hours of exercise per week\n",
    "ȳ is the mean of the BMI values\n",
    "x is the number of hours of exercise per week for each participant\n",
    "y is the BMI value for each participant\n",
    "\n",
    "Using this formula, you can calculate the Pearson correlation coefficient for your data set. The Pearson correlation coefficient ranges from -1 to 1, with values closer to -1 indicating a strong negative correlation, values closer to 1 indicating a strong positive correlation, and values closer to 0 indicating no correlation.\n",
    "\n",
    "Step 3: Calculate the Spearman's rank correlation coefficient\n",
    "\n",
    "To calculate the Spearman's rank correlation coefficient, you will need to use the following formula:\n",
    "\n",
    "ρ = 1 - (6∑d²) / (n(n² - 1))\n",
    "\n",
    "where:\n",
    "d is the difference between the ranks of x and y for each participant\n",
    "n is the number of participants\n",
    "\n",
    "Using this formula, you can calculate the Spearman's rank correlation coefficient for your data set. The Spearman's rank correlation coefficient ranges from -1 to 1, with values closer to -1 indicating a strong negative correlation, values closer to 1 indicating a strong positive correlation, and values closer to 0 indicating no correlation.\n",
    "\n",
    "Step 4: Compare the results\n",
    "\n",
    "Once you have calculated both coefficients, you can compare the results. If the Pearson correlation coefficient and the Spearman's rank correlation coefficient are both close to 1 or -1, this indicates a strong correlation between the two variables. If the Pearson correlation coefficient is close to 0 and the Spearman's rank correlation coefficient is not close to 1 or -1, this indicates a weak or no correlation between the two variables. If the Pearson correlation coefficient is close to 1 or -1 but the Spearman's rank correlation coefficient is not, this may indicate that there are outliers or nonlinear relationships in the data that are affecting the Pearson coefficient.\n",
    "\n",
    "Note that the Spearman's rank correlation coefficient is less sensitive to outliers and nonlinear relationships than the Pearson correlation coefficient, so it may be a better choice if you suspect that your data may have these characteristic.\n"
   ]
  },
  {
   "cell_type": "code",
   "execution_count": 1,
   "metadata": {},
   "outputs": [
    {
     "name": "stdout",
     "output_type": "stream",
     "text": [
      "Pearson correlation coefficient: 0.979\n",
      "Spearman's rank correlation coefficient: 0.978\n"
     ]
    }
   ],
   "source": [
    "import numpy as np\n",
    "from scipy.stats import pearsonr, spearmanr\n",
    "\n",
    "# Create sample data\n",
    "hours_of_exercise = np.array([4, 6, 3, 5, 2, 1, 7, 5, 4, 6, 2, 1, 3, 5, 7, 2, 1, 6, 4, 3, \n",
    "                              5, 2, 1, 6, 4, 3, 5, 2, 1, 7, 5, 4, 6, 2, 1, 3, 5, 7, 2, 1, \n",
    "                              6, 4, 3, 5, 2, 1, 6, 4, 3, 5, 2])\n",
    "bmi = np.array([23.3, 24.1, 22.8, 23.9, 21.7, 20.5, 25.4, 24.1, 23.1, 24.6, 21.2, 20.4, \n",
    "                22.9, 24.5, 26.1, 21.6, 20.5, 24.7, 23.6, 22.4, 24.3, 21.8, 20.6, 24.8, \n",
    "                23.7, 22.5, 24.2, 21.9, 20.7, 25.7, 24.3, 23.3, 25.1, 21.3, 20.5, 22.8, \n",
    "                24.4, 26.2, 21.7, 20.6, 24.9, 23.8, 22.6, 24.4, 22.0, 20.8, 25.5, 24.1, \n",
    "                23.2, 24.9, 22.1])\n",
    "\n",
    "# Calculate Pearson correlation coefficient\n",
    "pearson_coef, p_value = pearsonr(hours_of_exercise, bmi)\n",
    "print(f\"Pearson correlation coefficient: {pearson_coef:.3f}\")\n",
    "\n",
    "# Calculate Spearman's rank correlation coefficient\n",
    "spearman_coef, p_value = spearmanr(hours_of_exercise, bmi)\n",
    "print(f\"Spearman's rank correlation coefficient: {spearman_coef:.3f}\")\n"
   ]
  },
  {
   "attachments": {},
   "cell_type": "markdown",
   "metadata": {},
   "source": [
    "# Q4. A researcher is interested in examining the relationship between the number of hours individuals spend watching television per day and their level of physical activity. The researcher collected data on both variables from a sample of 50 participants. Calculate the Pearson correlation coefficient between these two variables."
   ]
  },
  {
   "cell_type": "code",
   "execution_count": 10,
   "metadata": {},
   "outputs": [
    {
     "name": "stdout",
     "output_type": "stream",
     "text": [
      "Pearson correlation coefficient: 0.643\n"
     ]
    }
   ],
   "source": [
    "import numpy as np\n",
    "from scipy.stats import pearsonr\n",
    "\n",
    "# Create sample data\n",
    "tv_hours = np.array([2, 3, 1, 4, 2, 2, 3, 4, 1, 2, 3, 4, 1, 2, 3, 4, 1, 2, 3, 4, \n",
    "                     1, 2, 3, 4, 1, 2, 3, 4, 1, 2, 3, 4, 1, 2, 3, 4, 1, 2, 3, 4, \n",
    "                     1, 2, 3, 4, 1, 2, 3, 4])\n",
    "physical_activity = np.array([3, 4, 2, 4, 3, 2, 4, 3, 2, 3, 4, 3, 2, 3, 4, 3, 2, 3, 4, 3, \n",
    "                              2, 3, 4, 3, 2, 3, 4, 3, 2, 3, 4, 3, 2, 3, 4, 3, 2, 3, 4, 3, \n",
    "                              2, 3, 4, 3, 2, 3, 4, 3])\n",
    "\n",
    "# Calculate Pearson correlation coefficient\n",
    "pearson_coef, p_value = pearsonr(tv_hours, physical_activity)\n",
    "print(f\"Pearson correlation coefficient: {pearson_coef:.3f}\")\n",
    "\n"
   ]
  },
  {
   "attachments": {},
   "cell_type": "markdown",
   "metadata": {},
   "source": [
    "# Q5. A survey was conducted to examine the relationship between age and preference for a particular brand of soft drink. The survey results are shown below:"
   ]
  },
  {
   "cell_type": "code",
   "execution_count": 11,
   "metadata": {},
   "outputs": [
    {
     "data": {
      "text/html": [
       "<div>\n",
       "<style scoped>\n",
       "    .dataframe tbody tr th:only-of-type {\n",
       "        vertical-align: middle;\n",
       "    }\n",
       "\n",
       "    .dataframe tbody tr th {\n",
       "        vertical-align: top;\n",
       "    }\n",
       "\n",
       "    .dataframe thead th {\n",
       "        text-align: right;\n",
       "    }\n",
       "</style>\n",
       "<table border=\"1\" class=\"dataframe\">\n",
       "  <thead>\n",
       "    <tr style=\"text-align: right;\">\n",
       "      <th></th>\n",
       "      <th>Age (Years)</th>\n",
       "      <th>Soft drink Preference</th>\n",
       "    </tr>\n",
       "  </thead>\n",
       "  <tbody>\n",
       "    <tr>\n",
       "      <th>0</th>\n",
       "      <td>25</td>\n",
       "      <td>Coke</td>\n",
       "    </tr>\n",
       "    <tr>\n",
       "      <th>1</th>\n",
       "      <td>42</td>\n",
       "      <td>Pepsi</td>\n",
       "    </tr>\n",
       "    <tr>\n",
       "      <th>2</th>\n",
       "      <td>37</td>\n",
       "      <td>Mountain Dew</td>\n",
       "    </tr>\n",
       "    <tr>\n",
       "      <th>3</th>\n",
       "      <td>19</td>\n",
       "      <td>Coke</td>\n",
       "    </tr>\n",
       "    <tr>\n",
       "      <th>4</th>\n",
       "      <td>31</td>\n",
       "      <td>Pepsi</td>\n",
       "    </tr>\n",
       "    <tr>\n",
       "      <th>5</th>\n",
       "      <td>28</td>\n",
       "      <td>Coke</td>\n",
       "    </tr>\n",
       "  </tbody>\n",
       "</table>\n",
       "</div>"
      ],
      "text/plain": [
       "   Age (Years) Soft drink Preference\n",
       "0           25                  Coke\n",
       "1           42                 Pepsi\n",
       "2           37          Mountain Dew\n",
       "3           19                  Coke\n",
       "4           31                 Pepsi\n",
       "5           28                  Coke"
      ]
     },
     "execution_count": 11,
     "metadata": {},
     "output_type": "execute_result"
    }
   ],
   "source": [
    "import pandas as pd\n",
    "data = {\n",
    "    'Age (Years)': [25, 42, 37, 19, 31, 28],\n",
    "    'Soft drink Preference': ['Coke', 'Pepsi', 'Mountain Dew', 'Coke', 'Pepsi', 'Coke']\n",
    "}\n",
    "\n",
    "df = pd.DataFrame(data)\n",
    "df\n",
    "\n"
   ]
  },
  {
   "cell_type": "code",
   "execution_count": 16,
   "metadata": {},
   "outputs": [
    {
     "data": {
      "text/html": [
       "<div>\n",
       "<style scoped>\n",
       "    .dataframe tbody tr th:only-of-type {\n",
       "        vertical-align: middle;\n",
       "    }\n",
       "\n",
       "    .dataframe tbody tr th {\n",
       "        vertical-align: top;\n",
       "    }\n",
       "\n",
       "    .dataframe thead th {\n",
       "        text-align: right;\n",
       "    }\n",
       "</style>\n",
       "<table border=\"1\" class=\"dataframe\">\n",
       "  <thead>\n",
       "    <tr style=\"text-align: right;\">\n",
       "      <th>Soft drink Preference</th>\n",
       "      <th>Coke</th>\n",
       "      <th>Mountain Dew</th>\n",
       "      <th>Pepsi</th>\n",
       "    </tr>\n",
       "    <tr>\n",
       "      <th>Age (Years)</th>\n",
       "      <th></th>\n",
       "      <th></th>\n",
       "      <th></th>\n",
       "    </tr>\n",
       "  </thead>\n",
       "  <tbody>\n",
       "    <tr>\n",
       "      <th>19</th>\n",
       "      <td>1</td>\n",
       "      <td>0</td>\n",
       "      <td>0</td>\n",
       "    </tr>\n",
       "    <tr>\n",
       "      <th>25</th>\n",
       "      <td>1</td>\n",
       "      <td>0</td>\n",
       "      <td>0</td>\n",
       "    </tr>\n",
       "    <tr>\n",
       "      <th>28</th>\n",
       "      <td>1</td>\n",
       "      <td>0</td>\n",
       "      <td>0</td>\n",
       "    </tr>\n",
       "    <tr>\n",
       "      <th>31</th>\n",
       "      <td>0</td>\n",
       "      <td>0</td>\n",
       "      <td>1</td>\n",
       "    </tr>\n",
       "    <tr>\n",
       "      <th>37</th>\n",
       "      <td>0</td>\n",
       "      <td>1</td>\n",
       "      <td>0</td>\n",
       "    </tr>\n",
       "    <tr>\n",
       "      <th>42</th>\n",
       "      <td>0</td>\n",
       "      <td>0</td>\n",
       "      <td>1</td>\n",
       "    </tr>\n",
       "  </tbody>\n",
       "</table>\n",
       "</div>"
      ],
      "text/plain": [
       "Soft drink Preference  Coke  Mountain Dew  Pepsi\n",
       "Age (Years)                                     \n",
       "19                        1             0      0\n",
       "25                        1             0      0\n",
       "28                        1             0      0\n",
       "31                        0             0      1\n",
       "37                        0             1      0\n",
       "42                        0             0      1"
      ]
     },
     "execution_count": 16,
     "metadata": {},
     "output_type": "execute_result"
    }
   ],
   "source": [
    "df_new = pd.crosstab(df['Age (Years)'], df['Soft drink Preference'])\n",
    "df_new"
   ]
  },
  {
   "cell_type": "code",
   "execution_count": 17,
   "metadata": {},
   "outputs": [
    {
     "data": {
      "text/html": [
       "<div>\n",
       "<style scoped>\n",
       "    .dataframe tbody tr th:only-of-type {\n",
       "        vertical-align: middle;\n",
       "    }\n",
       "\n",
       "    .dataframe tbody tr th {\n",
       "        vertical-align: top;\n",
       "    }\n",
       "\n",
       "    .dataframe thead th {\n",
       "        text-align: right;\n",
       "    }\n",
       "</style>\n",
       "<table border=\"1\" class=\"dataframe\">\n",
       "  <thead>\n",
       "    <tr style=\"text-align: right;\">\n",
       "      <th>Soft drink Preference</th>\n",
       "      <th>Coke</th>\n",
       "      <th>Mountain Dew</th>\n",
       "      <th>Pepsi</th>\n",
       "    </tr>\n",
       "    <tr>\n",
       "      <th>Soft drink Preference</th>\n",
       "      <th></th>\n",
       "      <th></th>\n",
       "      <th></th>\n",
       "    </tr>\n",
       "  </thead>\n",
       "  <tbody>\n",
       "    <tr>\n",
       "      <th>Coke</th>\n",
       "      <td>1.000000</td>\n",
       "      <td>-0.447214</td>\n",
       "      <td>-0.707107</td>\n",
       "    </tr>\n",
       "    <tr>\n",
       "      <th>Mountain Dew</th>\n",
       "      <td>-0.447214</td>\n",
       "      <td>1.000000</td>\n",
       "      <td>-0.316228</td>\n",
       "    </tr>\n",
       "    <tr>\n",
       "      <th>Pepsi</th>\n",
       "      <td>-0.707107</td>\n",
       "      <td>-0.316228</td>\n",
       "      <td>1.000000</td>\n",
       "    </tr>\n",
       "  </tbody>\n",
       "</table>\n",
       "</div>"
      ],
      "text/plain": [
       "Soft drink Preference      Coke  Mountain Dew     Pepsi\n",
       "Soft drink Preference                                  \n",
       "Coke                   1.000000     -0.447214 -0.707107\n",
       "Mountain Dew          -0.447214      1.000000 -0.316228\n",
       "Pepsi                 -0.707107     -0.316228  1.000000"
      ]
     },
     "execution_count": 17,
     "metadata": {},
     "output_type": "execute_result"
    }
   ],
   "source": [
    "df_new.corr(method='pearson')"
   ]
  },
  {
   "cell_type": "code",
   "execution_count": 18,
   "metadata": {},
   "outputs": [
    {
     "data": {
      "text/html": [
       "<div>\n",
       "<style scoped>\n",
       "    .dataframe tbody tr th:only-of-type {\n",
       "        vertical-align: middle;\n",
       "    }\n",
       "\n",
       "    .dataframe tbody tr th {\n",
       "        vertical-align: top;\n",
       "    }\n",
       "\n",
       "    .dataframe thead th {\n",
       "        text-align: right;\n",
       "    }\n",
       "</style>\n",
       "<table border=\"1\" class=\"dataframe\">\n",
       "  <thead>\n",
       "    <tr style=\"text-align: right;\">\n",
       "      <th>Soft drink Preference</th>\n",
       "      <th>Coke</th>\n",
       "      <th>Mountain Dew</th>\n",
       "      <th>Pepsi</th>\n",
       "    </tr>\n",
       "    <tr>\n",
       "      <th>Soft drink Preference</th>\n",
       "      <th></th>\n",
       "      <th></th>\n",
       "      <th></th>\n",
       "    </tr>\n",
       "  </thead>\n",
       "  <tbody>\n",
       "    <tr>\n",
       "      <th>Coke</th>\n",
       "      <td>1.000000</td>\n",
       "      <td>-0.447214</td>\n",
       "      <td>-0.707107</td>\n",
       "    </tr>\n",
       "    <tr>\n",
       "      <th>Mountain Dew</th>\n",
       "      <td>-0.447214</td>\n",
       "      <td>1.000000</td>\n",
       "      <td>-0.316228</td>\n",
       "    </tr>\n",
       "    <tr>\n",
       "      <th>Pepsi</th>\n",
       "      <td>-0.707107</td>\n",
       "      <td>-0.316228</td>\n",
       "      <td>1.000000</td>\n",
       "    </tr>\n",
       "  </tbody>\n",
       "</table>\n",
       "</div>"
      ],
      "text/plain": [
       "Soft drink Preference      Coke  Mountain Dew     Pepsi\n",
       "Soft drink Preference                                  \n",
       "Coke                   1.000000     -0.447214 -0.707107\n",
       "Mountain Dew          -0.447214      1.000000 -0.316228\n",
       "Pepsi                 -0.707107     -0.316228  1.000000"
      ]
     },
     "execution_count": 18,
     "metadata": {},
     "output_type": "execute_result"
    }
   ],
   "source": [
    "df_new.corr(method='spearman')\n"
   ]
  },
  {
   "attachments": {},
   "cell_type": "markdown",
   "metadata": {},
   "source": [
    "# Q6. A company is interested in examining the relationship between the number of sales calls made per day and the number of sales made per week. The company collected data on both variables from a sample of 30 sales representatives. Calculate the Pearson correlation coefficient between these two variables."
   ]
  },
  {
   "cell_type": "code",
   "execution_count": 21,
   "metadata": {},
   "outputs": [
    {
     "name": "stdout",
     "output_type": "stream",
     "text": [
      "Pearson correlation coefficient: 0.9696873717477733\n"
     ]
    }
   ],
   "source": [
    "import pandas as pd\n",
    "\n",
    "data = {\n",
    "    'Sales Calls per Day': [20, 25, 30, 15, 18, 23, 28, 12, 17, 22, 27, 10, 14, 19, 24, 29, 13, 16, 21, 26, 9, 11, 31, 32, 33, 34, 35, 36, 37, 38],\n",
    "    'Sales per Week': [5, 7, 10, 3, 4, 6, 9, 2, 3, 5, 8, 1, 2, 4, 6, 8, 1, 2, 4, 7, 1, 1, 11, 12, 13, 14, 15, 16, 17, 18]\n",
    "}\n",
    "\n",
    "df = pd.DataFrame(data)\n",
    "\n",
    "pearson_corr = df['Sales Calls per Day'].corr(df['Sales per Week'], method='pearson')\n",
    "\n",
    "print(\"Pearson correlation coefficient:\", pearson_corr)\n"
   ]
  }
 ],
 "metadata": {
  "kernelspec": {
   "display_name": "Python 3",
   "language": "python",
   "name": "python3"
  },
  "language_info": {
   "codemirror_mode": {
    "name": "ipython",
    "version": 3
   },
   "file_extension": ".py",
   "mimetype": "text/x-python",
   "name": "python",
   "nbconvert_exporter": "python",
   "pygments_lexer": "ipython3",
   "version": "3.11.2"
  },
  "orig_nbformat": 4
 },
 "nbformat": 4,
 "nbformat_minor": 2
}
